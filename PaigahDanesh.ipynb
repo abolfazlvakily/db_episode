{
 "cells": [
  {
   "cell_type": "markdown",
   "metadata": {},
   "source": [
    "## ابوالفضل وکیلی هستم\n",
    "# نام پروژه : پایگاه دانش\n",
    "### درس اصوال طراحی پایگاه داده\n",
    "###  پروژه را اول ترم با جنگو پیاده سازی نموده ام \n",
    "### این پروژه که پروژه دوم می باشد ، صفر تا صد دیتابیس آن طراحی شده و برای نمونه، گزارش هایی نیز در آخر به این پروژه اضافه گردیده است\n",
    "## جداول و روابط بین آنها تنها به صورت کد نبوده و به صورت گرافیکی برای درک درست آماده گردیده است\n",
    "## نام استاد : جناب آقای دکتر قاضی خانی\n",
    "### دانشگاه بین المللی امام رضا ع"
   ]
  },
  {
   "cell_type": "markdown",
   "metadata": {},
   "source": []
  },
  {
   "cell_type": "markdown",
   "metadata": {},
   "source": [
    "# در ابتدا کتابخانه ای که بتوان به اس کیو ال سرور کانکشن زد را وارد محیط برنامه پایتون می نماییم"
   ]
  },
  {
   "cell_type": "code",
   "execution_count": 28,
   "metadata": {},
   "outputs": [],
   "source": [
    "import pyodbc "
   ]
  },
  {
   "cell_type": "markdown",
   "metadata": {},
   "source": [
    "# جهت ایجاد پایگاه داده به مستر متصل می شویم"
   ]
  },
  {
   "cell_type": "code",
   "execution_count": 12,
   "metadata": {},
   "outputs": [],
   "source": [
    "server_name = '.'\n",
    "db_name = 'master'\n",
    "conn = pyodbc.connect('Driver={SQL Server};'\n",
    "                      'Server=' + server_name + ';'\n",
    "                      'Database=' + db_name + ';'\n",
    "                      'Trusted_Connection=yes;' , \n",
    "                      autocommit=True)"
   ]
  },
  {
   "cell_type": "markdown",
   "metadata": {},
   "source": [
    "# با استفاده از کوئری زیر پایگاه داده خود را ایجاد می نماییم"
   ]
  },
  {
   "cell_type": "code",
   "execution_count": 13,
   "metadata": {},
   "outputs": [],
   "source": [
    "create_db_query = '''\n",
    "Create database PaigahDanesh\n",
    "on(name=PaigahDanesh_Datafile,filename='D:\\db_project\\PaigahDanesh_Datafile.mdf',size=5mb,maxsize=5GB,filegrowth=10%)\n",
    "\n",
    "Log on\n",
    "(name=PaigahDanesh_DataLog,filename='D:\\db_project\\PaigahDanesh_Datafile.ldf',size=5mb,maxsize=5GB,filegrowth=10%)\n",
    "'''"
   ]
  },
  {
   "cell_type": "code",
   "execution_count": null,
   "metadata": {
    "scrolled": true
   },
   "outputs": [],
   "source": [
    "cursor = conn.cursor()\n",
    "cursor.execute(create_db_query)"
   ]
  },
  {
   "cell_type": "markdown",
   "metadata": {},
   "source": [
    "# به پایگاه داده ایجاد شده خود متصل می شویم"
   ]
  },
  {
   "cell_type": "code",
   "execution_count": 79,
   "metadata": {},
   "outputs": [],
   "source": [
    "server_name = '.'\n",
    "db_name = 'PaigahDanesh'\n",
    "conn = pyodbc.connect('Driver={SQL Server};'\n",
    "                      'Server=' + server_name + ';'\n",
    "                      'Database=' + db_name + ';'\n",
    "                      'Trusted_Connection=yes;' , \n",
    "                      autocommit=True)"
   ]
  },
  {
   "cell_type": "markdown",
   "metadata": {},
   "source": [
    "# با استفاده از کوئری زیر، جداول مورد نظر خود را جهت انجام سناریو پایگاه دانش ساخته ام"
   ]
  },
  {
   "cell_type": "code",
   "execution_count": 61,
   "metadata": {},
   "outputs": [],
   "source": [
    "query_create_tables = '''\n",
    "    CREATE TABLE STAFF\n",
    "(ID INT IDENTITY (1,1), FirstName nvarchar(40), LastName nvarchar(50), Administartor bit ,constraint PK_STAFF_ID primary key(ID))\n",
    "\n",
    "CREATE TABLE CUSTOMER\n",
    "(ID int IDENTITY (1,1), FirstName nvarchar(40), LastName nvarchar(50), constraint PK_CUSTOMER_ID primary key(ID))\n",
    "\n",
    "CREATE TABLE DOCUMENTATION\n",
    "(ID INT IDENTITY (1,1), FileAddress nvarchar(200), CUSTOMER_ID int, STAFF_ID int, constraint PK_DOCUMENTATION_ID primary key(ID))\n",
    "\n",
    "\n",
    "CREATE TABLE COMMENT\n",
    "(ID INT IDENTITY (1,1), Test ntext, COMMENT_ID int ,CUSTOMER_ID int,DOCUMENTATION_ID int, STAFF_ID int, constraint PK_COMMENT_ID primary key(ID))\n",
    "        '''"
   ]
  },
  {
   "cell_type": "markdown",
   "metadata": {},
   "source": [
    "# همانطور که در خروجی کد زیر مشاهده می نمایید ، آبجکتی به معنای درست بود فرایند ساخت جداول برگردانده می شود"
   ]
  },
  {
   "cell_type": "code",
   "execution_count": 62,
   "metadata": {
    "scrolled": true
   },
   "outputs": [
    {
     "data": {
      "text/plain": [
       "<pyodbc.Cursor at 0x4013060>"
      ]
     },
     "execution_count": 62,
     "metadata": {},
     "output_type": "execute_result"
    }
   ],
   "source": [
    "cursor.execute(query_create_tables)"
   ]
  },
  {
   "cell_type": "markdown",
   "metadata": {},
   "source": [
    "# با استفاده از دستورات زیر ارتباط بین جداول را مشخص می نماییم"
   ]
  },
  {
   "cell_type": "code",
   "execution_count": 63,
   "metadata": {},
   "outputs": [],
   "source": [
    "FK = '''\n",
    "        ALTER TABLE DOCUMENTATION\n",
    "        ADD CONSTRAINT FK_STAFF_DOCUMENTATION\n",
    "        FOREIGN KEY (STAFF_ID) REFERENCES STAFF(ID);\n",
    "        ALTER TABLE DOCUMENTATION\n",
    "        ADD CONSTRAINT FK_CUSTOMER_DOCUMENTATION\n",
    "        FOREIGN KEY (CUSTOMER_ID) REFERENCES CUSTOMER(ID);\n",
    "\n",
    "        ----------------------\n",
    "        ALTER TABLE COMMENT\n",
    "        ADD CONSTRAINT FK_STAFF_COMMENT\n",
    "        FOREIGN KEY (STAFF_ID) REFERENCES STAFF(ID);\n",
    "\n",
    "        ALTER TABLE COMMENT\n",
    "        ADD CONSTRAINT FK_CUSTOMER_COMMENT\n",
    "        FOREIGN KEY (CUSTOMER_ID) REFERENCES CUSTOMER(ID);\n",
    "\n",
    "        ALTER TABLE COMMENT\n",
    "        ADD CONSTRAINT FK_COMMENT_COMMENT\n",
    "        FOREIGN KEY (COMMENT_ID) REFERENCES COMMENT(ID);\n",
    "\n",
    "        ALTER TABLE COMMENT\n",
    "        ADD CONSTRAINT FK_DOCUMENTATION_COMMENT\n",
    "        FOREIGN KEY (DOCUMENTATION_ID) REFERENCES DOCUMENTATION(ID);\n",
    "    '''"
   ]
  },
  {
   "cell_type": "code",
   "execution_count": 64,
   "metadata": {},
   "outputs": [
    {
     "data": {
      "text/plain": [
       "<pyodbc.Cursor at 0x4013060>"
      ]
     },
     "execution_count": 64,
     "metadata": {},
     "output_type": "execute_result"
    }
   ],
   "source": [
    "cursor.execute(FK)"
   ]
  },
  {
   "cell_type": "markdown",
   "metadata": {},
   "source": [
    "# چه جداولی تولید گردیدند؟"
   ]
  },
  {
   "cell_type": "code",
   "execution_count": 65,
   "metadata": {},
   "outputs": [],
   "source": [
    "show_tables = '''\n",
    "                SELECT\n",
    "                  *\n",
    "                FROM\n",
    "                  INFORMATION_SCHEMA.TABLES;\n",
    "            '''"
   ]
  },
  {
   "cell_type": "code",
   "execution_count": 66,
   "metadata": {
    "scrolled": true
   },
   "outputs": [
    {
     "name": "stdout",
     "output_type": "stream",
     "text": [
      "('PaigahDanesh', 'dbo', 'STAFF', 'BASE TABLE')\n",
      "('PaigahDanesh', 'dbo', 'CUSTOMER', 'BASE TABLE')\n",
      "('PaigahDanesh', 'dbo', 'DOCUMENTATION', 'BASE TABLE')\n",
      "('PaigahDanesh', 'dbo', 'COMMENT', 'BASE TABLE')\n",
      "('PaigahDanesh', 'dbo', 'sysdiagrams', 'BASE TABLE')\n"
     ]
    }
   ],
   "source": [
    "cursor.execute(show_tables)\n",
    "for i in cursor:\n",
    "    print(i)"
   ]
  },
  {
   "cell_type": "markdown",
   "metadata": {},
   "source": [
    "# تا کنون دیتابیس ما خالی است. که قصد دارم آن ها را با کوئری هایی که در زیر آمده پر نمایم"
   ]
  },
  {
   "cell_type": "code",
   "execution_count": 67,
   "metadata": {},
   "outputs": [],
   "source": [
    "insert_STAFF = '''INSERT INTO STAFF(FirstName, LastName, Administartor)\n",
    "                    VALUES ('ابوالفضل', 'وکیلی', 1);\n",
    "                    \n",
    "                    INSERT INTO STAFF(FirstName, LastName, Administartor)\n",
    "                    VALUES ('علیرضا', 'محمدی', 0);\n",
    "                    \n",
    "                    INSERT INTO STAFF(FirstName, LastName, Administartor)\n",
    "                    VALUES ('مهرداد', 'باقری', 0);\n",
    "                    \n",
    "                    INSERT INTO STAFF(FirstName, LastName, Administartor)\n",
    "                    VALUES ('ناصر', 'باقرپور', 0);\n",
    "                    \n",
    "                    INSERT INTO STAFF(FirstName, LastName, Administartor)\n",
    "                    VALUES ('ابراهیم', 'ابراهیمی', 0);\n",
    "                    \n",
    "                    INSERT INTO STAFF(FirstName, LastName, Administartor)\n",
    "                    VALUES ('محمد', 'صادقی', 0);\n",
    "            '''"
   ]
  },
  {
   "cell_type": "code",
   "execution_count": 68,
   "metadata": {},
   "outputs": [
    {
     "data": {
      "text/plain": [
       "<pyodbc.Cursor at 0x4013060>"
      ]
     },
     "execution_count": 68,
     "metadata": {},
     "output_type": "execute_result"
    }
   ],
   "source": [
    "cursor.execute(insert_STAFF)"
   ]
  },
  {
   "cell_type": "code",
   "execution_count": 70,
   "metadata": {},
   "outputs": [],
   "source": [
    "insert_CUSTOMER = '''\n",
    "INSERT INTO CUSTOMER(FirstName, LastName)\n",
    "VALUES ('محمد', 'علیزاده')\n",
    "\n",
    "INSERT INTO CUSTOMER(FirstName, LastName)\n",
    "VALUES ('محمد', 'علیمردانی')\n",
    "\n",
    "INSERT INTO CUSTOMER(FirstName, LastName)\n",
    "VALUES ('محمد', 'اصفهانی')\n",
    "\n",
    "\n",
    "INSERT INTO CUSTOMER(FirstName, LastName)\n",
    "VALUES ('علی', 'ابراهیم زاده')\n",
    "\n",
    "\n",
    "INSERT INTO CUSTOMER(FirstName, LastName)\n",
    "VALUES ('مصطفی', 'شریف زاده')\n",
    "\n",
    "INSERT INTO CUSTOMER(FirstName, LastName)\n",
    "VALUES ('مریم', 'مشهدی')\n",
    "\n",
    "INSERT INTO CUSTOMER(FirstName, LastName)\n",
    "VALUES ('مازیار', 'فلاحی')\n",
    "'''"
   ]
  },
  {
   "cell_type": "code",
   "execution_count": 71,
   "metadata": {},
   "outputs": [
    {
     "data": {
      "text/plain": [
       "<pyodbc.Cursor at 0x4013060>"
      ]
     },
     "execution_count": 71,
     "metadata": {},
     "output_type": "execute_result"
    }
   ],
   "source": [
    "cursor.execute(insert_CUSTOMER)"
   ]
  },
  {
   "cell_type": "code",
   "execution_count": 72,
   "metadata": {},
   "outputs": [],
   "source": [
    "insert_DOCUMENTATION = '''\n",
    "insert into DOCUMENTATION (FileAddress, CUSTOMER_ID, STAFF_ID)\n",
    "values('C:\\\\file1.pdf', (select ID from STAFF where FirstName like N'ابوالفضل'), (select ID from CUSTOMER where FirstName like N'مصطفي'))\n",
    "\n",
    "insert into DOCUMENTATION (FileAddress, CUSTOMER_ID, STAFF_ID)\n",
    "values('C:\\\\file2.pdf', (select ID from STAFF where FirstName like N'ابوالفضل'), (select ID from CUSTOMER where FirstName like N'علي'))\n",
    "\n",
    "insert into DOCUMENTATION (FileAddress, CUSTOMER_ID, STAFF_ID)\n",
    "values('C:\\\\file3.pdf', (select ID from STAFF where FirstName like N'ابوالفضل'), (select ID from CUSTOMER where FirstName like N'مريم'))\n",
    "\n",
    "insert into DOCUMENTATION (FileAddress, CUSTOMER_ID, STAFF_ID)\n",
    "values('C:\\\\file4.pdf', (select ID from STAFF where FirstName like N'محمد'), (select ID from CUSTOMER where FirstName like N'مريم'))\n",
    "\n",
    "insert into DOCUMENTATION (FileAddress, CUSTOMER_ID, STAFF_ID)\n",
    "values('C:\\\\file5.pdf', (select ID from STAFF where FirstName like N'عليرضا'), (select ID from CUSTOMER where FirstName like N'مصطفي'))\n",
    "\n",
    "insert into DOCUMENTATION (FileAddress, CUSTOMER_ID, STAFF_ID)\n",
    "values('C:\\\\file6.pdf', (select ID from STAFF where FirstName like N'ابوالفضل'), (select ID from CUSTOMER where FirstName like N'مصطفي'))\n",
    "'''"
   ]
  },
  {
   "cell_type": "code",
   "execution_count": 73,
   "metadata": {},
   "outputs": [
    {
     "data": {
      "text/plain": [
       "<pyodbc.Cursor at 0x4013060>"
      ]
     },
     "execution_count": 73,
     "metadata": {},
     "output_type": "execute_result"
    }
   ],
   "source": [
    "cursor.execute(insert_DOCUMENTATION)"
   ]
  },
  {
   "cell_type": "markdown",
   "metadata": {},
   "source": [
    "# وحالا گزارشات"
   ]
  },
  {
   "cell_type": "code",
   "execution_count": 75,
   "metadata": {},
   "outputs": [],
   "source": [
    "import pandas as pd"
   ]
  },
  {
   "cell_type": "markdown",
   "metadata": {},
   "source": [
    "### بیاید در ابتدا تیبل ها را به صورت خام مشاهده نمایید"
   ]
  },
  {
   "cell_type": "code",
   "execution_count": 88,
   "metadata": {},
   "outputs": [
    {
     "data": {
      "text/html": [
       "<div>\n",
       "<style scoped>\n",
       "    .dataframe tbody tr th:only-of-type {\n",
       "        vertical-align: middle;\n",
       "    }\n",
       "\n",
       "    .dataframe tbody tr th {\n",
       "        vertical-align: top;\n",
       "    }\n",
       "\n",
       "    .dataframe thead th {\n",
       "        text-align: right;\n",
       "    }\n",
       "</style>\n",
       "<table border=\"1\" class=\"dataframe\">\n",
       "  <thead>\n",
       "    <tr style=\"text-align: right;\">\n",
       "      <th></th>\n",
       "      <th>ID</th>\n",
       "      <th>FirstName</th>\n",
       "      <th>LastName</th>\n",
       "      <th>Administartor</th>\n",
       "    </tr>\n",
       "  </thead>\n",
       "  <tbody>\n",
       "    <tr>\n",
       "      <th>0</th>\n",
       "      <td>1</td>\n",
       "      <td>ابوالفضل</td>\n",
       "      <td>وکيلي</td>\n",
       "      <td>True</td>\n",
       "    </tr>\n",
       "    <tr>\n",
       "      <th>1</th>\n",
       "      <td>2</td>\n",
       "      <td>عليرضا</td>\n",
       "      <td>محمدي</td>\n",
       "      <td>False</td>\n",
       "    </tr>\n",
       "    <tr>\n",
       "      <th>2</th>\n",
       "      <td>3</td>\n",
       "      <td>مهرداد</td>\n",
       "      <td>باقري</td>\n",
       "      <td>False</td>\n",
       "    </tr>\n",
       "    <tr>\n",
       "      <th>3</th>\n",
       "      <td>4</td>\n",
       "      <td>ناصر</td>\n",
       "      <td>باقرپور</td>\n",
       "      <td>False</td>\n",
       "    </tr>\n",
       "    <tr>\n",
       "      <th>4</th>\n",
       "      <td>5</td>\n",
       "      <td>ابراهيم</td>\n",
       "      <td>ابراهيمي</td>\n",
       "      <td>False</td>\n",
       "    </tr>\n",
       "    <tr>\n",
       "      <th>5</th>\n",
       "      <td>6</td>\n",
       "      <td>محمد</td>\n",
       "      <td>صادقي</td>\n",
       "      <td>False</td>\n",
       "    </tr>\n",
       "  </tbody>\n",
       "</table>\n",
       "</div>"
      ],
      "text/plain": [
       "   ID FirstName  LastName  Administartor\n",
       "0   1  ابوالفضل     وکيلي           True\n",
       "1   2    عليرضا     محمدي          False\n",
       "2   3    مهرداد     باقري          False\n",
       "3   4      ناصر   باقرپور          False\n",
       "4   5   ابراهيم  ابراهيمي          False\n",
       "5   6      محمد     صادقي          False"
      ]
     },
     "execution_count": 88,
     "metadata": {},
     "output_type": "execute_result"
    }
   ],
   "source": [
    "staff_data = '''select * from STAFF'''\n",
    "staff = pd.read_sql(staff_data, conn)\n",
    "staff"
   ]
  },
  {
   "cell_type": "code",
   "execution_count": 89,
   "metadata": {
    "scrolled": true
   },
   "outputs": [
    {
     "data": {
      "text/html": [
       "<div>\n",
       "<style scoped>\n",
       "    .dataframe tbody tr th:only-of-type {\n",
       "        vertical-align: middle;\n",
       "    }\n",
       "\n",
       "    .dataframe tbody tr th {\n",
       "        vertical-align: top;\n",
       "    }\n",
       "\n",
       "    .dataframe thead th {\n",
       "        text-align: right;\n",
       "    }\n",
       "</style>\n",
       "<table border=\"1\" class=\"dataframe\">\n",
       "  <thead>\n",
       "    <tr style=\"text-align: right;\">\n",
       "      <th></th>\n",
       "      <th>ID</th>\n",
       "      <th>FirstName</th>\n",
       "      <th>LastName</th>\n",
       "    </tr>\n",
       "  </thead>\n",
       "  <tbody>\n",
       "    <tr>\n",
       "      <th>0</th>\n",
       "      <td>1</td>\n",
       "      <td>محمد</td>\n",
       "      <td>عليزاده</td>\n",
       "    </tr>\n",
       "    <tr>\n",
       "      <th>1</th>\n",
       "      <td>2</td>\n",
       "      <td>محمد</td>\n",
       "      <td>عليمرداني</td>\n",
       "    </tr>\n",
       "    <tr>\n",
       "      <th>2</th>\n",
       "      <td>3</td>\n",
       "      <td>محمد</td>\n",
       "      <td>اصفهاني</td>\n",
       "    </tr>\n",
       "    <tr>\n",
       "      <th>3</th>\n",
       "      <td>4</td>\n",
       "      <td>علي</td>\n",
       "      <td>ابراهيم زاده</td>\n",
       "    </tr>\n",
       "    <tr>\n",
       "      <th>4</th>\n",
       "      <td>5</td>\n",
       "      <td>مصطفي</td>\n",
       "      <td>شريف زاده</td>\n",
       "    </tr>\n",
       "    <tr>\n",
       "      <th>5</th>\n",
       "      <td>6</td>\n",
       "      <td>مريم</td>\n",
       "      <td>مشهدي</td>\n",
       "    </tr>\n",
       "    <tr>\n",
       "      <th>6</th>\n",
       "      <td>7</td>\n",
       "      <td>مازيار</td>\n",
       "      <td>فلاحي</td>\n",
       "    </tr>\n",
       "  </tbody>\n",
       "</table>\n",
       "</div>"
      ],
      "text/plain": [
       "   ID FirstName      LastName\n",
       "0   1      محمد       عليزاده\n",
       "1   2      محمد     عليمرداني\n",
       "2   3      محمد       اصفهاني\n",
       "3   4       علي  ابراهيم زاده\n",
       "4   5     مصطفي     شريف زاده\n",
       "5   6      مريم         مشهدي\n",
       "6   7    مازيار         فلاحي"
      ]
     },
     "execution_count": 89,
     "metadata": {},
     "output_type": "execute_result"
    }
   ],
   "source": [
    "customer_data = '''select * from CUSTOMER'''\n",
    "customer = pd.read_sql(customer_data, conn)\n",
    "customer"
   ]
  },
  {
   "cell_type": "code",
   "execution_count": 91,
   "metadata": {
    "scrolled": true
   },
   "outputs": [
    {
     "data": {
      "text/html": [
       "<div>\n",
       "<style scoped>\n",
       "    .dataframe tbody tr th:only-of-type {\n",
       "        vertical-align: middle;\n",
       "    }\n",
       "\n",
       "    .dataframe tbody tr th {\n",
       "        vertical-align: top;\n",
       "    }\n",
       "\n",
       "    .dataframe thead th {\n",
       "        text-align: right;\n",
       "    }\n",
       "</style>\n",
       "<table border=\"1\" class=\"dataframe\">\n",
       "  <thead>\n",
       "    <tr style=\"text-align: right;\">\n",
       "      <th></th>\n",
       "      <th>ID</th>\n",
       "      <th>FileAddress</th>\n",
       "      <th>CUSTOMER_ID</th>\n",
       "      <th>STAFF_ID</th>\n",
       "    </tr>\n",
       "  </thead>\n",
       "  <tbody>\n",
       "    <tr>\n",
       "      <th>0</th>\n",
       "      <td>1</td>\n",
       "      <td>asdasdasd</td>\n",
       "      <td>1</td>\n",
       "      <td>5</td>\n",
       "    </tr>\n",
       "    <tr>\n",
       "      <th>1</th>\n",
       "      <td>2</td>\n",
       "      <td>C:\\file1.pdf</td>\n",
       "      <td>1</td>\n",
       "      <td>5</td>\n",
       "    </tr>\n",
       "    <tr>\n",
       "      <th>2</th>\n",
       "      <td>3</td>\n",
       "      <td>C:\\file2.pdf</td>\n",
       "      <td>1</td>\n",
       "      <td>4</td>\n",
       "    </tr>\n",
       "    <tr>\n",
       "      <th>3</th>\n",
       "      <td>4</td>\n",
       "      <td>C:\\file3.pdf</td>\n",
       "      <td>1</td>\n",
       "      <td>6</td>\n",
       "    </tr>\n",
       "    <tr>\n",
       "      <th>4</th>\n",
       "      <td>5</td>\n",
       "      <td>C:\\file4.pdf</td>\n",
       "      <td>6</td>\n",
       "      <td>6</td>\n",
       "    </tr>\n",
       "    <tr>\n",
       "      <th>5</th>\n",
       "      <td>6</td>\n",
       "      <td>C:\\file5.pdf</td>\n",
       "      <td>2</td>\n",
       "      <td>5</td>\n",
       "    </tr>\n",
       "    <tr>\n",
       "      <th>6</th>\n",
       "      <td>7</td>\n",
       "      <td>C:\\file6.pdf</td>\n",
       "      <td>1</td>\n",
       "      <td>5</td>\n",
       "    </tr>\n",
       "  </tbody>\n",
       "</table>\n",
       "</div>"
      ],
      "text/plain": [
       "   ID   FileAddress  CUSTOMER_ID  STAFF_ID\n",
       "0   1     asdasdasd            1         5\n",
       "1   2  C:\\file1.pdf            1         5\n",
       "2   3  C:\\file2.pdf            1         4\n",
       "3   4  C:\\file3.pdf            1         6\n",
       "4   5  C:\\file4.pdf            6         6\n",
       "5   6  C:\\file5.pdf            2         5\n",
       "6   7  C:\\file6.pdf            1         5"
      ]
     },
     "execution_count": 91,
     "metadata": {},
     "output_type": "execute_result"
    }
   ],
   "source": [
    "DOCUMENTATION_query = '''select * from DOCUMENTATION'''\n",
    "DOCUMENTATION = pd.read_sql(DOCUMENTATION_query, conn)\n",
    "DOCUMENTATION"
   ]
  },
  {
   "cell_type": "code",
   "execution_count": 92,
   "metadata": {
    "scrolled": false
   },
   "outputs": [
    {
     "data": {
      "text/html": [
       "<div>\n",
       "<style scoped>\n",
       "    .dataframe tbody tr th:only-of-type {\n",
       "        vertical-align: middle;\n",
       "    }\n",
       "\n",
       "    .dataframe tbody tr th {\n",
       "        vertical-align: top;\n",
       "    }\n",
       "\n",
       "    .dataframe thead th {\n",
       "        text-align: right;\n",
       "    }\n",
       "</style>\n",
       "<table border=\"1\" class=\"dataframe\">\n",
       "  <thead>\n",
       "    <tr style=\"text-align: right;\">\n",
       "      <th></th>\n",
       "      <th>ID</th>\n",
       "      <th>Test</th>\n",
       "      <th>COMMENT_ID</th>\n",
       "      <th>CUSTOMER_ID</th>\n",
       "      <th>DOCUMENTATION_ID</th>\n",
       "      <th>STAFF_ID</th>\n",
       "    </tr>\n",
       "  </thead>\n",
       "  <tbody>\n",
       "    <tr>\n",
       "      <th>0</th>\n",
       "      <td>1</td>\n",
       "      <td>testdsfsdf</td>\n",
       "      <td>NaN</td>\n",
       "      <td>1</td>\n",
       "      <td>1</td>\n",
       "      <td>1</td>\n",
       "    </tr>\n",
       "    <tr>\n",
       "      <th>1</th>\n",
       "      <td>2</td>\n",
       "      <td>sfdfsdfd</td>\n",
       "      <td>1.0</td>\n",
       "      <td>2</td>\n",
       "      <td>2</td>\n",
       "      <td>2</td>\n",
       "    </tr>\n",
       "    <tr>\n",
       "      <th>2</th>\n",
       "      <td>3</td>\n",
       "      <td>NUewrwerweLL</td>\n",
       "      <td>NaN</td>\n",
       "      <td>3</td>\n",
       "      <td>1</td>\n",
       "      <td>2</td>\n",
       "    </tr>\n",
       "    <tr>\n",
       "      <th>3</th>\n",
       "      <td>4</td>\n",
       "      <td>vxc</td>\n",
       "      <td>NaN</td>\n",
       "      <td>2</td>\n",
       "      <td>2</td>\n",
       "      <td>3</td>\n",
       "    </tr>\n",
       "    <tr>\n",
       "      <th>4</th>\n",
       "      <td>5</td>\n",
       "      <td>vxcvxcvcvx</td>\n",
       "      <td>1.0</td>\n",
       "      <td>3</td>\n",
       "      <td>3</td>\n",
       "      <td>5</td>\n",
       "    </tr>\n",
       "    <tr>\n",
       "      <th>5</th>\n",
       "      <td>6</td>\n",
       "      <td>vcvcxv</td>\n",
       "      <td>NaN</td>\n",
       "      <td>4</td>\n",
       "      <td>5</td>\n",
       "      <td>5</td>\n",
       "    </tr>\n",
       "  </tbody>\n",
       "</table>\n",
       "</div>"
      ],
      "text/plain": [
       "   ID          Test  COMMENT_ID  CUSTOMER_ID  DOCUMENTATION_ID  STAFF_ID\n",
       "0   1    testdsfsdf         NaN            1                 1         1\n",
       "1   2      sfdfsdfd         1.0            2                 2         2\n",
       "2   3  NUewrwerweLL         NaN            3                 1         2\n",
       "3   4           vxc         NaN            2                 2         3\n",
       "4   5    vxcvxcvcvx         1.0            3                 3         5\n",
       "5   6        vcvcxv         NaN            4                 5         5"
      ]
     },
     "execution_count": 92,
     "metadata": {},
     "output_type": "execute_result"
    }
   ],
   "source": [
    "COMMENT_query = '''select * from COMMENT'''\n",
    "COMMENT = pd.read_sql(COMMENT_query, conn)\n",
    "COMMENT"
   ]
  },
  {
   "cell_type": "markdown",
   "metadata": {},
   "source": [
    "# گزارشات سناریو ها"
   ]
  },
  {
   "cell_type": "markdown",
   "metadata": {},
   "source": [
    "### به عنوان یک مدیر می خواهم بتوانم اطلاعات همه کارمندان  را مشاهده نمایم"
   ]
  },
  {
   "cell_type": "code",
   "execution_count": 76,
   "metadata": {},
   "outputs": [],
   "source": [
    "query = '''\n",
    "    select concat(FirstName, ' ', LastName) as name, case when Administartor like 1 then 'مدیر' else 'کارمند' end as admin from STAFF\n",
    "'''"
   ]
  },
  {
   "cell_type": "code",
   "execution_count": 85,
   "metadata": {},
   "outputs": [
    {
     "data": {
      "text/html": [
       "<div>\n",
       "<style scoped>\n",
       "    .dataframe tbody tr th:only-of-type {\n",
       "        vertical-align: middle;\n",
       "    }\n",
       "\n",
       "    .dataframe tbody tr th {\n",
       "        vertical-align: top;\n",
       "    }\n",
       "\n",
       "    .dataframe thead th {\n",
       "        text-align: right;\n",
       "    }\n",
       "</style>\n",
       "<table border=\"1\" class=\"dataframe\">\n",
       "  <thead>\n",
       "    <tr style=\"text-align: right;\">\n",
       "      <th></th>\n",
       "      <th>نام و نام خانوادگی</th>\n",
       "      <th>سمت</th>\n",
       "    </tr>\n",
       "  </thead>\n",
       "  <tbody>\n",
       "    <tr>\n",
       "      <th>0</th>\n",
       "      <td>ابوالفضل وکيلي</td>\n",
       "      <td>مدير</td>\n",
       "    </tr>\n",
       "    <tr>\n",
       "      <th>1</th>\n",
       "      <td>عليرضا محمدي</td>\n",
       "      <td>کارمند</td>\n",
       "    </tr>\n",
       "    <tr>\n",
       "      <th>2</th>\n",
       "      <td>مهرداد باقري</td>\n",
       "      <td>کارمند</td>\n",
       "    </tr>\n",
       "    <tr>\n",
       "      <th>3</th>\n",
       "      <td>ناصر باقرپور</td>\n",
       "      <td>کارمند</td>\n",
       "    </tr>\n",
       "    <tr>\n",
       "      <th>4</th>\n",
       "      <td>ابراهيم ابراهيمي</td>\n",
       "      <td>کارمند</td>\n",
       "    </tr>\n",
       "    <tr>\n",
       "      <th>5</th>\n",
       "      <td>محمد صادقي</td>\n",
       "      <td>کارمند</td>\n",
       "    </tr>\n",
       "  </tbody>\n",
       "</table>\n",
       "</div>"
      ],
      "text/plain": [
       "  نام و نام خانوادگی     سمت\n",
       "0     ابوالفضل وکيلي    مدير\n",
       "1       عليرضا محمدي  کارمند\n",
       "2       مهرداد باقري  کارمند\n",
       "3       ناصر باقرپور  کارمند\n",
       "4   ابراهيم ابراهيمي  کارمند\n",
       "5         محمد صادقي  کارمند"
      ]
     },
     "execution_count": 85,
     "metadata": {},
     "output_type": "execute_result"
    }
   ],
   "source": [
    "staff_list = pd.read_sql(query, conn)\n",
    "staff_list.columns = ['نام و نام خانوادگی', 'سمت']\n",
    "staff_list"
   ]
  },
  {
   "cell_type": "markdown",
   "metadata": {},
   "source": [
    "## گزارش جامع"
   ]
  },
  {
   "cell_type": "code",
   "execution_count": 96,
   "metadata": {},
   "outputs": [
    {
     "data": {
      "text/html": [
       "<div>\n",
       "<style scoped>\n",
       "    .dataframe tbody tr th:only-of-type {\n",
       "        vertical-align: middle;\n",
       "    }\n",
       "\n",
       "    .dataframe tbody tr th {\n",
       "        vertical-align: top;\n",
       "    }\n",
       "\n",
       "    .dataframe thead th {\n",
       "        text-align: right;\n",
       "    }\n",
       "</style>\n",
       "<table border=\"1\" class=\"dataframe\">\n",
       "  <thead>\n",
       "    <tr style=\"text-align: right;\">\n",
       "      <th></th>\n",
       "      <th>نام و نام خانوادگی کارمند</th>\n",
       "      <th>متن پیام ارسالی</th>\n",
       "      <th>نام و نام خانوادگی مشتری</th>\n",
       "    </tr>\n",
       "  </thead>\n",
       "  <tbody>\n",
       "    <tr>\n",
       "      <th>0</th>\n",
       "      <td>ابوالفضل وکيلي</td>\n",
       "      <td>testdsfsdf</td>\n",
       "      <td>محمد عليزاده</td>\n",
       "    </tr>\n",
       "    <tr>\n",
       "      <th>1</th>\n",
       "      <td>عليرضا محمدي</td>\n",
       "      <td>sfdfsdfd</td>\n",
       "      <td>محمد عليمرداني</td>\n",
       "    </tr>\n",
       "    <tr>\n",
       "      <th>2</th>\n",
       "      <td>مهرداد باقري</td>\n",
       "      <td>NUewrwerweLL</td>\n",
       "      <td>محمد اصفهاني</td>\n",
       "    </tr>\n",
       "    <tr>\n",
       "      <th>3</th>\n",
       "      <td>ناصر باقرپور</td>\n",
       "      <td>vxc</td>\n",
       "      <td>علي ابراهيم زاده</td>\n",
       "    </tr>\n",
       "    <tr>\n",
       "      <th>4</th>\n",
       "      <td>ابراهيم ابراهيمي</td>\n",
       "      <td>vxcvxcvcvx</td>\n",
       "      <td>مصطفي شريف زاده</td>\n",
       "    </tr>\n",
       "    <tr>\n",
       "      <th>5</th>\n",
       "      <td>محمد صادقي</td>\n",
       "      <td>vcvcxv</td>\n",
       "      <td>مريم مشهدي</td>\n",
       "    </tr>\n",
       "  </tbody>\n",
       "</table>\n",
       "</div>"
      ],
      "text/plain": [
       "  نام و نام خانوادگی کارمند متن پیام ارسالی نام و نام خانوادگی مشتری\n",
       "0            ابوالفضل وکيلي      testdsfsdf             محمد عليزاده\n",
       "1              عليرضا محمدي        sfdfsdfd           محمد عليمرداني\n",
       "2              مهرداد باقري    NUewrwerweLL             محمد اصفهاني\n",
       "3              ناصر باقرپور             vxc         علي ابراهيم زاده\n",
       "4          ابراهيم ابراهيمي      vxcvxcvcvx          مصطفي شريف زاده\n",
       "5                محمد صادقي          vcvcxv               مريم مشهدي"
      ]
     },
     "execution_count": 96,
     "metadata": {},
     "output_type": "execute_result"
    }
   ],
   "source": [
    "query = '''select concat(s.firstname, ' ', s.lastname) as name , c.test as message, concat(cu.firstname, ' ', cu.lastname) as customer from STAFF as s\n",
    "inner join Comment as c on s.id = c.id\n",
    "inner join customer as cu on cu.id = c.id'''\n",
    "\n",
    "Q1= pd.read_sql(query, conn)\n",
    "Q1.columns = ['نام و نام خانوادگی کارمند', 'متن پیام ارسالی', 'نام و نام خانوادگی مشتری']\n",
    "Q1"
   ]
  },
  {
   "cell_type": "markdown",
   "metadata": {},
   "source": [
    "## هر مشتری چند کامنت ثبت نموده؟"
   ]
  },
  {
   "cell_type": "code",
   "execution_count": 101,
   "metadata": {},
   "outputs": [
    {
     "data": {
      "text/html": [
       "<div>\n",
       "<style scoped>\n",
       "    .dataframe tbody tr th:only-of-type {\n",
       "        vertical-align: middle;\n",
       "    }\n",
       "\n",
       "    .dataframe tbody tr th {\n",
       "        vertical-align: top;\n",
       "    }\n",
       "\n",
       "    .dataframe thead th {\n",
       "        text-align: right;\n",
       "    }\n",
       "</style>\n",
       "<table border=\"1\" class=\"dataframe\">\n",
       "  <thead>\n",
       "    <tr style=\"text-align: right;\">\n",
       "      <th></th>\n",
       "      <th>نام و نام خانوادگی مشتری</th>\n",
       "      <th>تعداد پیام ارسالی</th>\n",
       "    </tr>\n",
       "  </thead>\n",
       "  <tbody>\n",
       "    <tr>\n",
       "      <th>0</th>\n",
       "      <td>علي ابراهيم زاده</td>\n",
       "      <td>1</td>\n",
       "    </tr>\n",
       "    <tr>\n",
       "      <th>1</th>\n",
       "      <td>محمد اصفهاني</td>\n",
       "      <td>2</td>\n",
       "    </tr>\n",
       "    <tr>\n",
       "      <th>2</th>\n",
       "      <td>محمد عليزاده</td>\n",
       "      <td>1</td>\n",
       "    </tr>\n",
       "    <tr>\n",
       "      <th>3</th>\n",
       "      <td>محمد عليمرداني</td>\n",
       "      <td>2</td>\n",
       "    </tr>\n",
       "  </tbody>\n",
       "</table>\n",
       "</div>"
      ],
      "text/plain": [
       "  نام و نام خانوادگی مشتری  تعداد پیام ارسالی\n",
       "0         علي ابراهيم زاده                  1\n",
       "1             محمد اصفهاني                  2\n",
       "2             محمد عليزاده                  1\n",
       "3           محمد عليمرداني                  2"
      ]
     },
     "execution_count": 101,
     "metadata": {},
     "output_type": "execute_result"
    }
   ],
   "source": [
    "query = '''\n",
    "with tmp_table(name, n)\n",
    "as\n",
    "(select concat(firstname, ' ', lastname) as name , c.test from Customer as cu\n",
    "inner join comment as c on c.customer_id = cu.id)\n",
    "select name, count(*) from tmp_table\n",
    "group by name\n",
    "'''\n",
    "Q2 = pd.read_sql(query, conn)\n",
    "Q2.columns = ['نام و نام خانوادگی مشتری', 'تعداد پیام ارسالی']\n",
    "Q2"
   ]
  },
  {
   "cell_type": "markdown",
   "metadata": {},
   "source": [
    "## هر کارمند چند تا کامنت ثبت نموده؟"
   ]
  },
  {
   "cell_type": "code",
   "execution_count": 102,
   "metadata": {},
   "outputs": [
    {
     "data": {
      "text/html": [
       "<div>\n",
       "<style scoped>\n",
       "    .dataframe tbody tr th:only-of-type {\n",
       "        vertical-align: middle;\n",
       "    }\n",
       "\n",
       "    .dataframe tbody tr th {\n",
       "        vertical-align: top;\n",
       "    }\n",
       "\n",
       "    .dataframe thead th {\n",
       "        text-align: right;\n",
       "    }\n",
       "</style>\n",
       "<table border=\"1\" class=\"dataframe\">\n",
       "  <thead>\n",
       "    <tr style=\"text-align: right;\">\n",
       "      <th></th>\n",
       "      <th>نام و نام خانوادگی کارمند</th>\n",
       "      <th>تعداد پیام ارسالی</th>\n",
       "    </tr>\n",
       "  </thead>\n",
       "  <tbody>\n",
       "    <tr>\n",
       "      <th>0</th>\n",
       "      <td>ابراهيم ابراهيمي</td>\n",
       "      <td>2</td>\n",
       "    </tr>\n",
       "    <tr>\n",
       "      <th>1</th>\n",
       "      <td>ابوالفضل وکيلي</td>\n",
       "      <td>1</td>\n",
       "    </tr>\n",
       "    <tr>\n",
       "      <th>2</th>\n",
       "      <td>عليرضا محمدي</td>\n",
       "      <td>2</td>\n",
       "    </tr>\n",
       "    <tr>\n",
       "      <th>3</th>\n",
       "      <td>مهرداد باقري</td>\n",
       "      <td>1</td>\n",
       "    </tr>\n",
       "  </tbody>\n",
       "</table>\n",
       "</div>"
      ],
      "text/plain": [
       "  نام و نام خانوادگی کارمند  تعداد پیام ارسالی\n",
       "0          ابراهيم ابراهيمي                  2\n",
       "1            ابوالفضل وکيلي                  1\n",
       "2              عليرضا محمدي                  2\n",
       "3              مهرداد باقري                  1"
      ]
     },
     "execution_count": 102,
     "metadata": {},
     "output_type": "execute_result"
    }
   ],
   "source": [
    "query = '''\n",
    "\n",
    "with tmp_table(name, n)\n",
    "as\n",
    "(select concat(firstname, ' ', lastname) as name , c.test from Staff as s\n",
    "inner join comment as c on c.staff_id = s.id)\n",
    "select name, count(*) from tmp_table\n",
    "group by name\n",
    "'''\n",
    "Q3 = pd.read_sql(query, conn)\n",
    "Q3.columns = ['نام و نام خانوادگی کارمند', 'تعداد پیام ارسالی']\n",
    "Q3"
   ]
  }
 ],
 "metadata": {
  "kernelspec": {
   "display_name": "Python 3",
   "language": "python",
   "name": "python3"
  },
  "language_info": {
   "codemirror_mode": {
    "name": "ipython",
    "version": 3
   },
   "file_extension": ".py",
   "mimetype": "text/x-python",
   "name": "python",
   "nbconvert_exporter": "python",
   "pygments_lexer": "ipython3",
   "version": "3.7.0"
  }
 },
 "nbformat": 4,
 "nbformat_minor": 2
}
